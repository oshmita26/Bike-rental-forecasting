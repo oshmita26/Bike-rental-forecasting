{
 "cells": [
  {
   "cell_type": "markdown",
   "id": "3c4eb899",
   "metadata": {},
   "source": [
    "# Data exploration"
   ]
  },
  {
   "cell_type": "code",
   "execution_count": null,
   "id": "f2c34ec8",
   "metadata": {},
   "outputs": [],
   "source": [
    "# importing libraries\n",
    "import pandas as pd\n",
    "import numpy as np\n",
    "import matplotlib.pyplot as plt\n",
    "import seaborn as sns\n",
    "from datetime import datetime\n",
    "from datetime import date\n",
    "%matplotlib inline"
   ]
  },
  {
   "cell_type": "code",
   "execution_count": 3,
   "id": "b31fb662",
   "metadata": {},
   "outputs": [],
   "source": [
    "# loading the data\n",
    "train = pd.read_csv('train_data.csv')\n",
    "test = pd.read_csv('test.csv')"
   ]
  },
  {
   "cell_type": "code",
   "execution_count": 4,
   "id": "ee5ee68d",
   "metadata": {},
   "outputs": [
    {
     "data": {
      "text/html": [
       "<div>\n",
       "<style scoped>\n",
       "    .dataframe tbody tr th:only-of-type {\n",
       "        vertical-align: middle;\n",
       "    }\n",
       "\n",
       "    .dataframe tbody tr th {\n",
       "        vertical-align: top;\n",
       "    }\n",
       "\n",
       "    .dataframe thead th {\n",
       "        text-align: right;\n",
       "    }\n",
       "</style>\n",
       "<table border=\"1\" class=\"dataframe\">\n",
       "  <thead>\n",
       "    <tr style=\"text-align: right;\">\n",
       "      <th></th>\n",
       "      <th>datetime</th>\n",
       "      <th>season</th>\n",
       "      <th>holiday</th>\n",
       "      <th>workingday</th>\n",
       "      <th>weather</th>\n",
       "      <th>temp</th>\n",
       "      <th>atemp</th>\n",
       "      <th>humidity</th>\n",
       "      <th>windspeed</th>\n",
       "      <th>casual</th>\n",
       "      <th>registered</th>\n",
       "      <th>count</th>\n",
       "    </tr>\n",
       "  </thead>\n",
       "  <tbody>\n",
       "    <tr>\n",
       "      <th>0</th>\n",
       "      <td>2011-01-01 0:00:00</td>\n",
       "      <td>1</td>\n",
       "      <td>0</td>\n",
       "      <td>0</td>\n",
       "      <td>1</td>\n",
       "      <td>9.84</td>\n",
       "      <td>14.395</td>\n",
       "      <td>81.0</td>\n",
       "      <td>0.0</td>\n",
       "      <td>3</td>\n",
       "      <td>13</td>\n",
       "      <td>16</td>\n",
       "    </tr>\n",
       "    <tr>\n",
       "      <th>1</th>\n",
       "      <td>2011-01-01 1:00:00</td>\n",
       "      <td>1</td>\n",
       "      <td>0</td>\n",
       "      <td>0</td>\n",
       "      <td>1</td>\n",
       "      <td>9.02</td>\n",
       "      <td>13.635</td>\n",
       "      <td>80.0</td>\n",
       "      <td>0.0</td>\n",
       "      <td>8</td>\n",
       "      <td>32</td>\n",
       "      <td>40</td>\n",
       "    </tr>\n",
       "    <tr>\n",
       "      <th>2</th>\n",
       "      <td>2011-01-01 2:00:00</td>\n",
       "      <td>1</td>\n",
       "      <td>0</td>\n",
       "      <td>0</td>\n",
       "      <td>1</td>\n",
       "      <td>9.02</td>\n",
       "      <td>13.635</td>\n",
       "      <td>80.0</td>\n",
       "      <td>0.0</td>\n",
       "      <td>5</td>\n",
       "      <td>27</td>\n",
       "      <td>32</td>\n",
       "    </tr>\n",
       "    <tr>\n",
       "      <th>3</th>\n",
       "      <td>2011-01-01 3:00:00</td>\n",
       "      <td>1</td>\n",
       "      <td>0</td>\n",
       "      <td>0</td>\n",
       "      <td>1</td>\n",
       "      <td>9.84</td>\n",
       "      <td>14.395</td>\n",
       "      <td>75.0</td>\n",
       "      <td>0.0</td>\n",
       "      <td>3</td>\n",
       "      <td>10</td>\n",
       "      <td>13</td>\n",
       "    </tr>\n",
       "    <tr>\n",
       "      <th>4</th>\n",
       "      <td>2011-01-01 4:00:00</td>\n",
       "      <td>1</td>\n",
       "      <td>0</td>\n",
       "      <td>0</td>\n",
       "      <td>1</td>\n",
       "      <td>9.84</td>\n",
       "      <td>14.395</td>\n",
       "      <td>75.0</td>\n",
       "      <td>0.0</td>\n",
       "      <td>0</td>\n",
       "      <td>1</td>\n",
       "      <td>1</td>\n",
       "    </tr>\n",
       "  </tbody>\n",
       "</table>\n",
       "</div>"
      ],
      "text/plain": [
       "             datetime  season  holiday  workingday  weather  temp   atemp  \\\n",
       "0  2011-01-01 0:00:00       1        0           0        1  9.84  14.395   \n",
       "1  2011-01-01 1:00:00       1        0           0        1  9.02  13.635   \n",
       "2  2011-01-01 2:00:00       1        0           0        1  9.02  13.635   \n",
       "3  2011-01-01 3:00:00       1        0           0        1  9.84  14.395   \n",
       "4  2011-01-01 4:00:00       1        0           0        1  9.84  14.395   \n",
       "\n",
       "   humidity  windspeed  casual  registered  count  \n",
       "0      81.0        0.0       3          13     16  \n",
       "1      80.0        0.0       8          32     40  \n",
       "2      80.0        0.0       5          27     32  \n",
       "3      75.0        0.0       3          10     13  \n",
       "4      75.0        0.0       0           1      1  "
      ]
     },
     "execution_count": 4,
     "metadata": {},
     "output_type": "execute_result"
    }
   ],
   "source": [
    "train.head()"
   ]
  },
  {
   "cell_type": "code",
   "execution_count": 5,
   "id": "5acbe878",
   "metadata": {},
   "outputs": [
    {
     "data": {
      "text/html": [
       "<div>\n",
       "<style scoped>\n",
       "    .dataframe tbody tr th:only-of-type {\n",
       "        vertical-align: middle;\n",
       "    }\n",
       "\n",
       "    .dataframe tbody tr th {\n",
       "        vertical-align: top;\n",
       "    }\n",
       "\n",
       "    .dataframe thead th {\n",
       "        text-align: right;\n",
       "    }\n",
       "</style>\n",
       "<table border=\"1\" class=\"dataframe\">\n",
       "  <thead>\n",
       "    <tr style=\"text-align: right;\">\n",
       "      <th></th>\n",
       "      <th>datetime</th>\n",
       "      <th>season</th>\n",
       "      <th>holiday</th>\n",
       "      <th>workingday</th>\n",
       "      <th>weather</th>\n",
       "      <th>temp</th>\n",
       "      <th>atemp</th>\n",
       "      <th>humidity</th>\n",
       "      <th>windspeed</th>\n",
       "      <th>casual</th>\n",
       "      <th>registered</th>\n",
       "    </tr>\n",
       "  </thead>\n",
       "  <tbody>\n",
       "    <tr>\n",
       "      <th>0</th>\n",
       "      <td>2012-06-30 1:00:00</td>\n",
       "      <td>3</td>\n",
       "      <td>0</td>\n",
       "      <td>0</td>\n",
       "      <td>3</td>\n",
       "      <td>26.24</td>\n",
       "      <td>28.790</td>\n",
       "      <td>89.0</td>\n",
       "      <td>15.0013</td>\n",
       "      <td>3</td>\n",
       "      <td>55</td>\n",
       "    </tr>\n",
       "    <tr>\n",
       "      <th>1</th>\n",
       "      <td>2012-06-30 2:00:00</td>\n",
       "      <td>3</td>\n",
       "      <td>0</td>\n",
       "      <td>0</td>\n",
       "      <td>2</td>\n",
       "      <td>26.24</td>\n",
       "      <td>28.790</td>\n",
       "      <td>89.0</td>\n",
       "      <td>0.0000</td>\n",
       "      <td>7</td>\n",
       "      <td>54</td>\n",
       "    </tr>\n",
       "    <tr>\n",
       "      <th>2</th>\n",
       "      <td>2012-06-30 3:00:00</td>\n",
       "      <td>3</td>\n",
       "      <td>0</td>\n",
       "      <td>0</td>\n",
       "      <td>2</td>\n",
       "      <td>26.24</td>\n",
       "      <td>28.790</td>\n",
       "      <td>89.0</td>\n",
       "      <td>0.0000</td>\n",
       "      <td>3</td>\n",
       "      <td>20</td>\n",
       "    </tr>\n",
       "    <tr>\n",
       "      <th>3</th>\n",
       "      <td>2012-06-30 4:00:00</td>\n",
       "      <td>3</td>\n",
       "      <td>0</td>\n",
       "      <td>0</td>\n",
       "      <td>2</td>\n",
       "      <td>25.42</td>\n",
       "      <td>27.275</td>\n",
       "      <td>94.0</td>\n",
       "      <td>0.0000</td>\n",
       "      <td>3</td>\n",
       "      <td>15</td>\n",
       "    </tr>\n",
       "    <tr>\n",
       "      <th>4</th>\n",
       "      <td>2012-06-30 5:00:00</td>\n",
       "      <td>3</td>\n",
       "      <td>0</td>\n",
       "      <td>0</td>\n",
       "      <td>1</td>\n",
       "      <td>26.24</td>\n",
       "      <td>28.790</td>\n",
       "      <td>89.0</td>\n",
       "      <td>11.0014</td>\n",
       "      <td>3</td>\n",
       "      <td>7</td>\n",
       "    </tr>\n",
       "  </tbody>\n",
       "</table>\n",
       "</div>"
      ],
      "text/plain": [
       "             datetime  season  holiday  workingday  weather   temp   atemp  \\\n",
       "0  2012-06-30 1:00:00       3        0           0        3  26.24  28.790   \n",
       "1  2012-06-30 2:00:00       3        0           0        2  26.24  28.790   \n",
       "2  2012-06-30 3:00:00       3        0           0        2  26.24  28.790   \n",
       "3  2012-06-30 4:00:00       3        0           0        2  25.42  27.275   \n",
       "4  2012-06-30 5:00:00       3        0           0        1  26.24  28.790   \n",
       "\n",
       "   humidity  windspeed  casual  registered  \n",
       "0      89.0    15.0013       3          55  \n",
       "1      89.0     0.0000       7          54  \n",
       "2      89.0     0.0000       3          20  \n",
       "3      94.0     0.0000       3          15  \n",
       "4      89.0    11.0014       3           7  "
      ]
     },
     "execution_count": 5,
     "metadata": {},
     "output_type": "execute_result"
    }
   ],
   "source": [
    "test.head()"
   ]
  },
  {
   "cell_type": "code",
   "execution_count": 6,
   "id": "a6da36ac",
   "metadata": {},
   "outputs": [
    {
     "data": {
      "text/plain": [
       "Index(['datetime', 'season', 'holiday', 'workingday', 'weather', 'temp',\n",
       "       'atemp', 'humidity', 'windspeed', 'casual', 'registered', 'count'],\n",
       "      dtype='object')"
      ]
     },
     "execution_count": 6,
     "metadata": {},
     "output_type": "execute_result"
    }
   ],
   "source": [
    "train.columns"
   ]
  },
  {
   "cell_type": "code",
   "execution_count": 7,
   "id": "522175bd",
   "metadata": {},
   "outputs": [
    {
     "data": {
      "text/plain": [
       "Index(['datetime', 'season', 'holiday', 'workingday', 'weather', 'temp',\n",
       "       'atemp', 'humidity', 'windspeed', 'casual', 'registered'],\n",
       "      dtype='object')"
      ]
     },
     "execution_count": 7,
     "metadata": {},
     "output_type": "execute_result"
    }
   ],
   "source": [
    "test.columns"
   ]
  },
  {
   "cell_type": "code",
   "execution_count": 10,
   "id": "a3137856",
   "metadata": {},
   "outputs": [
    {
     "data": {
      "text/plain": [
       "datetime       object\n",
       "season          int64\n",
       "holiday         int64\n",
       "workingday      int64\n",
       "weather         int64\n",
       "temp          float64\n",
       "atemp         float64\n",
       "humidity      float64\n",
       "windspeed     float64\n",
       "casual          int64\n",
       "registered      int64\n",
       "count           int64\n",
       "dtype: object"
      ]
     },
     "execution_count": 10,
     "metadata": {},
     "output_type": "execute_result"
    }
   ],
   "source": [
    "# Hence, we come to know that 'count' is our target variable\n",
    "# Datatypes of the columns\n",
    "train.dtypes"
   ]
  },
  {
   "cell_type": "code",
   "execution_count": 11,
   "id": "dfd749be",
   "metadata": {},
   "outputs": [
    {
     "data": {
      "text/plain": [
       "datetime       object\n",
       "season          int64\n",
       "holiday         int64\n",
       "workingday      int64\n",
       "weather         int64\n",
       "temp          float64\n",
       "atemp         float64\n",
       "humidity      float64\n",
       "windspeed     float64\n",
       "casual          int64\n",
       "registered      int64\n",
       "dtype: object"
      ]
     },
     "execution_count": 11,
     "metadata": {},
     "output_type": "execute_result"
    }
   ],
   "source": [
    "test.dtypes"
   ]
  },
  {
   "cell_type": "markdown",
   "id": "3083f568",
   "metadata": {},
   "source": [
    "# Univariate analysis"
   ]
  },
  {
   "cell_type": "code",
   "execution_count": 28,
   "id": "7ee936be",
   "metadata": {},
   "outputs": [
    {
     "data": {
      "text/plain": [
       "<seaborn.axisgrid.FacetGrid at 0x1cdcd0bfdf0>"
      ]
     },
     "execution_count": 28,
     "metadata": {},
     "output_type": "execute_result"
    },
    {
     "data": {
      "image/png": "[encoded data removed]",
      "text/plain": [
       "<Figure size 360x360 with 1 Axes>"
      ]
     },
     "metadata": {
      "needs_background": "light"
     },
     "output_type": "display_data"
    }
   ],
   "source": [
    "# distribution of count variable\n",
    "sns.displot(train[\"count\"])"
   ]
  },
  {
   "cell_type": "code",
   "execution_count": 29,
   "id": "5e5a4e03",
   "metadata": {},
   "outputs": [
    {
     "data": {
      "text/plain": [
       "<seaborn.axisgrid.FacetGrid at 0x1cdce706460>"
      ]
     },
     "execution_count": 29,
     "metadata": {},
     "output_type": "execute_result"
    },
    {
     "data": {
      "image/png": "[encoded data removed]",
      "text/plain": [
       "<Figure size 360x360 with 1 Axes>"
      ]
     },
     "metadata": {
      "needs_background": "light"
     },
     "output_type": "display_data"
    }
   ],
   "source": [
    "# Now, it is seen that the distribution is right skewed hence we take the log of the variable\n",
    "sns.displot(np.log(train[\"count\"]))"
   ]
  },
  {
   "cell_type": "code",
   "execution_count": 30,
   "id": "daeac7e2",
   "metadata": {},
   "outputs": [
    {
     "data": {
      "text/plain": [
       "<seaborn.axisgrid.FacetGrid at 0x1cdc99c2b80>"
      ]
     },
     "execution_count": 30,
     "metadata": {},
     "output_type": "execute_result"
    },
    {
     "data": {
      "image/png": "[encoded data removed]",
      "text/plain": [
       "<Figure size 360x360 with 1 Axes>"
      ]
     },
     "metadata": {
      "needs_background": "light"
     },
     "output_type": "display_data"
    }
   ],
   "source": [
    "# Now it is necessary to find out which variable affects the target variable the most\n",
    "sns.displot(train[\"registered\"])"
   ]
  },
  {
   "cell_type": "raw",
   "id": "6e5e59af",
   "metadata": {},
   "source": [
    "Most of these registered rentals lie between 0-200"
   ]
  },
  {
   "cell_type": "markdown",
   "id": "3182a156",
   "metadata": {},
   "source": [
    "# Bivariate analysis"
   ]
  },
  {
   "cell_type": "code",
   "execution_count": 31,
   "id": "46bca593",
   "metadata": {},
   "outputs": [],
   "source": [
    "# Now, at first we look at the correlation between the numerical variables\n",
    "corr = train[[\"temp\",\"atemp\",\"casual\",\"registered\",\"humidity\",\"windspeed\",\"count\"]].corr()"
   ]
  },
  {
   "cell_type": "code",
   "execution_count": 35,
   "id": "4f4e0217",
   "metadata": {},
   "outputs": [
    {
     "data": {
      "text/plain": [
       "<AxesSubplot:>"
      ]
     },
     "execution_count": 35,
     "metadata": {},
     "output_type": "execute_result"
    },
    {
     "data": {
      "image/png": "[encoded data removed]",
      "text/plain": [
       "<Figure size 1440x720 with 2 Axes>"
      ]
     },
     "metadata": {
      "needs_background": "light"
     },
     "output_type": "display_data"
    }
   ],
   "source": [
    "corr_arr = np.array(corr)\n",
    "corr_arr[np.tril_indices_from(corr_arr)] = False\n",
    "fig, ax = plt.subplots()\n",
    "fig.set_size_inches(20, 10)\n",
    "sns.heatmap(corr, mask=corr_arr, vmax=0.9, square=True, annot=True, cmap=\"magma\")"
   ]
  },
  {
   "cell_type": "code",
   "execution_count": 36,
   "id": "9f8adac8",
   "metadata": {},
   "outputs": [
    {
     "data": {
      "text/plain": [
       "datetime      0\n",
       "season        0\n",
       "holiday       0\n",
       "workingday    0\n",
       "weather       0\n",
       "temp          0\n",
       "atemp         0\n",
       "humidity      0\n",
       "windspeed     0\n",
       "casual        0\n",
       "registered    0\n",
       "count         0\n",
       "dtype: int64"
      ]
     },
     "execution_count": 36,
     "metadata": {},
     "output_type": "execute_result"
    }
   ],
   "source": [
    "# Looking for missing values in the dataset\n",
    "train.isnull().sum()"
   ]
  },
  {
   "cell_type": "code",
   "execution_count": 37,
   "id": "13d4f50c",
   "metadata": {},
   "outputs": [
    {
     "data": {
      "text/plain": [
       "datetime      0\n",
       "season        0\n",
       "holiday       0\n",
       "workingday    0\n",
       "weather       0\n",
       "temp          0\n",
       "atemp         0\n",
       "humidity      0\n",
       "windspeed     0\n",
       "casual        0\n",
       "registered    0\n",
       "dtype: int64"
      ]
     },
     "execution_count": 37,
     "metadata": {},
     "output_type": "execute_result"
    }
   ],
   "source": [
    "test.isnull().sum()"
   ]
  },
  {
   "cell_type": "raw",
   "id": "1ffd2c5f",
   "metadata": {},
   "source": [
    "There are no missing values. This is a good thing!"
   ]
  },
  {
   "cell_type": "code",
   "execution_count": 38,
   "id": "6bf97bbb",
   "metadata": {},
   "outputs": [],
   "source": [
    "# extracting date, hour and month from the datetime\n",
    "train[\"date\"] = train.datetime.apply(lambda x : x.split()[0])\n",
    "train[\"hour\"] = train.datetime.apply(lambda x : x.split()[1].split(\":\")[0])\n",
    "train[\"month\"] = train.date.apply(lambda dateString : datetime.strptime(dateString,\"%Y-%m-%d\").month)"
   ]
  },
  {
   "cell_type": "code",
   "execution_count": 39,
   "id": "26828b9d",
   "metadata": {},
   "outputs": [],
   "source": [
    "test[\"date\"] = test.datetime.apply(lambda x : x.split()[0])\n",
    "test[\"hour\"] = test.datetime.apply(lambda x : x.split()[1].split(\":\")[0])\n",
    "test[\"month\"] = test.date.apply(lambda dateString : datetime.strptime(dateString,\"%Y-%m-%d\").month)"
   ]
  },
  {
   "cell_type": "code",
   "execution_count": 40,
   "id": "93d59727",
   "metadata": {},
   "outputs": [],
   "source": [
    "training = train[train[\"datetime\"]<=\"2012-03-30 00:00:00\"]\n",
    "validation = train[train[\"datetime\"]>\"2012-03-30 00:00:00\"]"
   ]
  },
  {
   "cell_type": "code",
   "execution_count": 41,
   "id": "0eb8c78e",
   "metadata": {},
   "outputs": [],
   "source": [
    "train = train.drop(['datetime','date', 'atemp'],axis=1)\n",
    "test = test.drop(['datetime','date', 'atemp'], axis=1)\n",
    "training = training.drop(['datetime','date', 'atemp'],axis=1)\n",
    "validation = validation.drop(['datetime','date', 'atemp'],axis=1)"
   ]
  },
  {
   "cell_type": "markdown",
   "id": "610eb225",
   "metadata": {},
   "source": [
    "# Model building"
   ]
  },
  {
   "cell_type": "code",
   "execution_count": 45,
   "id": "4e67dc07",
   "metadata": {},
   "outputs": [],
   "source": [
    "# linear regression model\n",
    "from sklearn.linear_model import LinearRegression"
   ]
  },
  {
   "cell_type": "code",
   "execution_count": 46,
   "id": "d47b8c61",
   "metadata": {},
   "outputs": [],
   "source": [
    "lreg = LinearRegression()"
   ]
  },
  {
   "cell_type": "code",
   "execution_count": 47,
   "id": "1cd0df78",
   "metadata": {},
   "outputs": [],
   "source": [
    "X_train = training.drop('count', 1)\n",
    "y_train = np.log(training['count'])\n",
    "X_test = validation.drop('count', 1)\n",
    "y_test = np.log(validation['count'])"
   ]
  },
  {
   "cell_type": "code",
   "execution_count": 48,
   "id": "edf4245b",
   "metadata": {},
   "outputs": [
    {
     "data": {
      "text/plain": [
       "((10773, 11), (10773,), (2207, 11), (2207,))"
      ]
     },
     "execution_count": 48,
     "metadata": {},
     "output_type": "execute_result"
    }
   ],
   "source": [
    "# Checking the shapes\n",
    "X_train.shape, y_train.shape, X_test.shape, y_test.shape"
   ]
  },
  {
   "cell_type": "code",
   "execution_count": 49,
   "id": "2731350f",
   "metadata": {},
   "outputs": [
    {
     "data": {
      "text/plain": [
       "LinearRegression()"
      ]
     },
     "execution_count": 49,
     "metadata": {},
     "output_type": "execute_result"
    }
   ],
   "source": [
    "lreg.fit(X_train, y_train)"
   ]
  },
  {
   "cell_type": "code",
   "execution_count": 51,
   "id": "4230018c",
   "metadata": {},
   "outputs": [],
   "source": [
    "# making prediction on the validation set\n",
    "pred = lreg.predict(X_test)"
   ]
  },
  {
   "cell_type": "code",
   "execution_count": 52,
   "id": "03515021",
   "metadata": {},
   "outputs": [],
   "source": [
    "# defining the function which will return the rmsle score\n",
    "def rmsle(y, y_):\n",
    "    y = np.exp(y)  # taking the exponent as we took the log of the variable\n",
    "    y_ = np.exp(y_)\n",
    "    log_a = np.nan_to_num(np.array([np.log(x+1) for x in y]))\n",
    "    log_b = np.nan_to_num(np.array([np.log(x+1) for x in y_]))\n",
    "    square = (log_a - log_b) ** 2\n",
    "    ans = np.sqrt(np.mean(square))\n",
    "    return ans"
   ]
  },
  {
   "cell_type": "code",
   "execution_count": 53,
   "id": "d6cb2431",
   "metadata": {},
   "outputs": [
    {
     "data": {
      "text/plain": [
       "0.8876469542289637"
      ]
     },
     "execution_count": 53,
     "metadata": {},
     "output_type": "execute_result"
    }
   ],
   "source": [
    "rmsle(y_test, pred)"
   ]
  },
  {
   "cell_type": "code",
   "execution_count": 56,
   "id": "b4ac6d1c",
   "metadata": {},
   "outputs": [
    {
     "name": "stdout",
     "output_type": "stream",
     "text": [
      "[3.25020161 3.26666189 3.05708414 ... 4.30200224 4.1438553  4.08274552]\n"
     ]
    }
   ],
   "source": [
    "test_prediction = lreg.predict(test)\n",
    "print(test_prediction)"
   ]
  },
  {
   "cell_type": "raw",
   "id": "d899d5bb",
   "metadata": {},
   "source": [
    "We want the rmsle value to be as close to 0 as possible"
   ]
  },
  {
   "cell_type": "markdown",
   "id": "929055ff",
   "metadata": {},
   "source": [
    "# Decision tree"
   ]
  },
  {
   "cell_type": "code",
   "execution_count": 57,
   "id": "9a5ceddb",
   "metadata": {},
   "outputs": [],
   "source": [
    "# To reduce the rmsle value, we use decision tree\n",
    "from sklearn.tree import DecisionTreeRegressor"
   ]
  },
  {
   "cell_type": "code",
   "execution_count": 58,
   "id": "49602f08",
   "metadata": {},
   "outputs": [],
   "source": [
    "dtreg = DecisionTreeRegressor(max_depth=5)"
   ]
  },
  {
   "cell_type": "code",
   "execution_count": 59,
   "id": "01a454b3",
   "metadata": {},
   "outputs": [
    {
     "data": {
      "text/plain": [
       "DecisionTreeRegressor(max_depth=5)"
      ]
     },
     "execution_count": 59,
     "metadata": {},
     "output_type": "execute_result"
    }
   ],
   "source": [
    "# Fitting the decision tree\n",
    "dtreg.fit(X_train, y_train)"
   ]
  },
  {
   "cell_type": "code",
   "execution_count": 60,
   "id": "53600c1e",
   "metadata": {},
   "outputs": [],
   "source": [
    "predict = dtreg.predict(X_test)"
   ]
  },
  {
   "cell_type": "code",
   "execution_count": 61,
   "id": "d4e8c4c5",
   "metadata": {},
   "outputs": [
    {
     "data": {
      "text/plain": [
       "0.1713433894766923"
      ]
     },
     "execution_count": 61,
     "metadata": {},
     "output_type": "execute_result"
    }
   ],
   "source": [
    "rmsle(y_test, predict)"
   ]
  },
  {
   "cell_type": "code",
   "execution_count": 62,
   "id": "71277fb4",
   "metadata": {},
   "outputs": [
    {
     "name": "stdout",
     "output_type": "stream",
     "text": [
      "[4.20971721 4.20971721 3.10092477 ... 4.54557822 4.13208764 4.13208764]\n"
     ]
    }
   ],
   "source": [
    "test_pred = dtreg.predict(test)\n",
    "print(test_pred)"
   ]
  },
  {
   "cell_type": "code",
   "execution_count": 63,
   "id": "63e4f60f",
   "metadata": {},
   "outputs": [],
   "source": [
    "final_prediction = np.exp(test_pred)\n",
    "# store this in a csv file\n",
    "submission_new = pd.DataFrame()"
   ]
  },
  {
   "cell_type": "code",
   "execution_count": 64,
   "id": "7f807ed7",
   "metadata": {},
   "outputs": [],
   "source": [
    "submission_new[\"count\"] = final_prediction"
   ]
  },
  {
   "cell_type": "code",
   "execution_count": 67,
   "id": "3299adca",
   "metadata": {},
   "outputs": [],
   "source": [
    "submission_new.to_csv('submission_new.csv', header=True, index=False)"
   ]
  },
  {
   "cell_type": "raw",
   "id": "4bed2c1b",
   "metadata": {},
   "source": [
    "My score emerged out to be 0.166017819"
   ]
  }
 ],
 "metadata": {
  "kernelspec": {
   "display_name": "Python 3",
   "language": "python",
   "name": "python3"
  },
  "language_info": {
   "codemirror_mode": {
    "name": "ipython",
    "version": 3
   },
   "file_extension": ".py",
   "mimetype": "text/x-python",
   "name": "python",
   "nbconvert_exporter": "python",
   "pygments_lexer": "ipython3",
   "version": "3.8.8"
  }
 },
 "nbformat": 4,
 "nbformat_minor": 5
}
